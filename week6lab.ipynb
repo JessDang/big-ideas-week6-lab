{
 "cells": [
  {
   "cell_type": "code",
   "execution_count": 4,
   "outputs": [
    {
     "name": "stdout",
     "output_type": "stream",
     "text": [
      "Hello Panos  You are 12  years old.\n"
     ]
    }
   ],
   "source": [
    "def getAge():\n",
    "    age = (input(\"Enter your age: \"))\n",
    "    try:\n",
    "        return int(age)\n",
    "    except:\n",
    "        return getAge()\n",
    "name = input(\"Enter your name: \")\n",
    "age = getAge()\n",
    "print(\"Hello\", name, \" You are\", age, \" years old.\")"
   ],
   "metadata": {
    "collapsed": false,
    "pycharm": {
     "name": "#%%\n"
    }
   }
  }
 ],
 "metadata": {
  "kernelspec": {
   "display_name": "Python 3",
   "language": "python",
   "name": "python3"
  },
  "language_info": {
   "codemirror_mode": {
    "name": "ipython",
    "version": 2
   },
   "file_extension": ".py",
   "mimetype": "text/x-python",
   "name": "python",
   "nbconvert_exporter": "python",
   "pygments_lexer": "ipython2",
   "version": "2.7.6"
  }
 },
 "nbformat": 4,
 "nbformat_minor": 0
}